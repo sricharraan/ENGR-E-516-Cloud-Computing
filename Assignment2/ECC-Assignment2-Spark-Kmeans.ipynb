{
 "cells": [
  {
   "cell_type": "markdown",
   "id": "b2e134d9",
   "metadata": {},
   "source": [
    "# Question 5 : Kmeans Clustering  "
   ]
  },
  {
   "cell_type": "code",
   "execution_count": 23,
   "id": "1b9b331a",
   "metadata": {},
   "outputs": [],
   "source": [
    "from pyspark.ml.clustering import KMeans\n",
    "from pyspark.ml.feature import VectorAssembler\n",
    "from pyspark.sql import SparkSession \n",
    "from pyspark.sql.functions import when, count, col, sum\n",
    "from pyspark.sql import SparkSession, Row\n",
    "from pyspark.context import SparkContext, SparkConf\n",
    "from pyspark.sql.context import SQLContext\n",
    "from pyspark.sql.session import SparkSession\n",
    "from pyspark.sql.functions import *\n",
    "from pyspark.sql.types import IntegerType\n",
    "import numpy as np\n",
    "import pandas as pd\n",
    "import requests\n",
    "import json"
   ]
  },
  {
   "cell_type": "code",
   "execution_count": 20,
   "id": "69f31d3d",
   "metadata": {},
   "outputs": [
    {
     "name": "stdout",
     "output_type": "stream",
     "text": [
      "22/12/12 09:28:32 WARN Utils: Your hostname, Sricharraans-Laptop.local resolves to a loopback address: 127.0.0.1; using 172.20.10.2 instead (on interface en0)\n",
      "22/12/12 09:28:32 WARN Utils: Set SPARK_LOCAL_IP if you need to bind to another address\n"
     ]
    },
    {
     "name": "stderr",
     "output_type": "stream",
     "text": [
      "Setting default log level to \"WARN\".\n",
      "To adjust logging level use sc.setLogLevel(newLevel). For SparkR, use setLogLevel(newLevel).\n"
     ]
    },
    {
     "name": "stdout",
     "output_type": "stream",
     "text": [
      "22/12/12 09:28:32 WARN NativeCodeLoader: Unable to load native-hadoop library for your platform... using builtin-java classes where applicable\n",
      "22/12/12 09:28:32 WARN Utils: Service 'SparkUI' could not bind on port 4040. Attempting port 4041.\n",
      "22/12/12 09:28:32 WARN Utils: Service 'SparkUI' could not bind on port 4041. Attempting port 4042.\n"
     ]
    }
   ],
   "source": [
    "spark = SparkSession.builder \\\n",
    "      .master(\"local[2]\") \\\n",
    "      .appName(\"SparkByExamples.com\") \\\n",
    "      .getOrCreate()"
   ]
  },
  {
   "cell_type": "code",
   "execution_count": 21,
   "id": "22015039",
   "metadata": {},
   "outputs": [],
   "source": [
    "def nearestK(dataPoint, ks):\n",
    "  closest, ret = np.float(\"+inf\"), 0\n",
    "  for i in range(len(ks)):\n",
    "    tDistance = np.sum(np.power((dataPoint-ks[i]), 2))\n",
    "    if tDistance < closest:\n",
    "      closest, ret = tDistance, i\n",
    "  return ret"
   ]
  },
  {
   "cell_type": "markdown",
   "id": "c449168b",
   "metadata": {},
   "source": [
    "In this question, we seek to determine the likelihood of citing any black vehicle for illegally parking in the designated street codes. \n",
    "In order to identify the nearest cluster to the data point [i.e., data pt] in order to solve this sum, we first build a function called the closest pt. Euclidean distance is used to compute new centres for each cluster. \n",
    "The following section of the code chooses the columns Vehicle colour, Street codes 1, 2, and 3 from the data, after which it uses the Vector Assembler function to convert and merge these 4 columns into a single column. \n",
    "Then, the k means, km model, and km result parameters are defined."
   ]
  },
  {
   "cell_type": "markdown",
   "id": "3eb10087",
   "metadata": {},
   "source": [
    "A list [black list] including all the codes for black vehicles is constructed while keeping in mind the 'Black' vehicle as the inquiry specifies. \n",
    "The chance of issuing a ticket to a black vehicle is displayed in an output table along with the prediction, count, and total cars after we create a black list and check if the vehicle colour is on the black list. \n",
    "The centres for each cluster formed using k means are then generated. \n",
    "Last but not least, we determine the likelihood of issuing a ticket to a black vehicle in street codes 34510, 10030, and 34050 based on all the facts as described before."
   ]
  },
  {
   "cell_type": "code",
   "execution_count": 24,
   "id": "e88b9f51",
   "metadata": {
    "scrolled": false
   },
   "outputs": [
    {
     "name": "stderr",
     "output_type": "stream",
     "text": [
      "[Stage 57:======================================>                   (6 + 2) / 9]\r"
     ]
    },
    {
     "name": "stdout",
     "output_type": "stream",
     "text": [
      "22/12/12 09:30:00 WARN MemoryStore: Not enough space to cache rdd_131_7 in memory! (computed 19.6 MiB so far)\n",
      "22/12/12 09:30:00 WARN BlockManager: Persisting block rdd_131_7 to disk instead.\n",
      "22/12/12 09:30:01 WARN MemoryStore: Not enough space to cache rdd_131_6 in memory! (computed 44.2 MiB so far)\n",
      "22/12/12 09:30:01 WARN BlockManager: Persisting block rdd_131_6 to disk instead.\n",
      "22/12/12 09:30:02 WARN MemoryStore: Not enough space to cache rdd_131_6 in memory! (computed 44.2 MiB so far)\n"
     ]
    },
    {
     "name": "stderr",
     "output_type": "stream",
     "text": [
      "\r",
      "[Stage 57:=============================================>            (7 + 2) / 9]\r"
     ]
    },
    {
     "name": "stdout",
     "output_type": "stream",
     "text": [
      "22/12/12 09:30:02 WARN MemoryStore: Not enough space to cache rdd_131_7 in memory! (computed 44.2 MiB so far)\n"
     ]
    },
    {
     "name": "stderr",
     "output_type": "stream",
     "text": [
      "                                                                                \r"
     ]
    },
    {
     "name": "stdout",
     "output_type": "stream",
     "text": [
      "22/12/12 09:30:03 WARN MemoryStore: Not enough space to cache rdd_131_7 in memory! (computed 8.4 MiB so far)\n",
      "22/12/12 09:30:03 WARN MemoryStore: Not enough space to cache rdd_131_6 in memory! (computed 19.6 MiB so far)\n"
     ]
    },
    {
     "name": "stderr",
     "output_type": "stream",
     "text": [
      "[Stage 59:======================================>                   (6 + 2) / 9]\r"
     ]
    },
    {
     "name": "stdout",
     "output_type": "stream",
     "text": [
      "22/12/12 09:30:06 WARN MemoryStore: Not enough space to cache rdd_131_7 in memory! (computed 44.2 MiB so far)\n",
      "22/12/12 09:30:06 WARN MemoryStore: Not enough space to cache rdd_131_7 in memory! (computed 3.7 MiB so far)\n"
     ]
    },
    {
     "name": "stderr",
     "output_type": "stream",
     "text": [
      "                                                                                \r"
     ]
    },
    {
     "name": "stdout",
     "output_type": "stream",
     "text": [
      "22/12/12 09:30:07 WARN MemoryStore: Not enough space to cache rdd_131_0 in memory! (computed 29.5 MiB so far)\n"
     ]
    },
    {
     "name": "stderr",
     "output_type": "stream",
     "text": [
      "[Stage 60:=============================================>            (7 + 2) / 9]\r"
     ]
    },
    {
     "name": "stdout",
     "output_type": "stream",
     "text": [
      "22/12/12 09:30:08 WARN MemoryStore: Not enough space to cache rdd_131_7 in memory! (computed 66.3 MiB so far)\n"
     ]
    },
    {
     "name": "stderr",
     "output_type": "stream",
     "text": [
      "\r",
      "                                                                                \r"
     ]
    },
    {
     "name": "stdout",
     "output_type": "stream",
     "text": [
      "22/12/12 09:30:09 WARN MemoryStore: Not enough space to cache rdd_131_0 in memory! (computed 29.5 MiB so far)\n"
     ]
    },
    {
     "name": "stderr",
     "output_type": "stream",
     "text": [
      "[Stage 61:======================================>                   (6 + 2) / 9]\r"
     ]
    },
    {
     "name": "stdout",
     "output_type": "stream",
     "text": [
      "22/12/12 09:30:11 WARN MemoryStore: Not enough space to cache rdd_131_7 in memory! (computed 29.5 MiB so far)\n"
     ]
    },
    {
     "name": "stderr",
     "output_type": "stream",
     "text": [
      "                                                                                \r"
     ]
    },
    {
     "name": "stdout",
     "output_type": "stream",
     "text": [
      "22/12/12 09:30:11 WARN MemoryStore: Not enough space to cache rdd_131_0 in memory! (computed 29.5 MiB so far)\n"
     ]
    },
    {
     "name": "stderr",
     "output_type": "stream",
     "text": [
      "[Stage 62:======================================>                   (6 + 2) / 9]\r"
     ]
    },
    {
     "name": "stdout",
     "output_type": "stream",
     "text": [
      "22/12/12 09:30:12 WARN MemoryStore: Not enough space to cache rdd_131_7 in memory! (computed 29.5 MiB so far)\n"
     ]
    },
    {
     "name": "stderr",
     "output_type": "stream",
     "text": [
      "                                                                                \r"
     ]
    },
    {
     "name": "stdout",
     "output_type": "stream",
     "text": [
      "22/12/12 09:30:13 WARN MemoryStore: Not enough space to cache rdd_131_0 in memory! (computed 29.5 MiB so far)\n"
     ]
    },
    {
     "name": "stderr",
     "output_type": "stream",
     "text": [
      "[Stage 63:=========================>                                (4 + 2) / 9]\r"
     ]
    },
    {
     "name": "stdout",
     "output_type": "stream",
     "text": [
      "22/12/12 09:30:13 WARN MemoryStore: Not enough space to cache rdd_131_7 in memory! (computed 19.6 MiB so far)\n"
     ]
    },
    {
     "name": "stderr",
     "output_type": "stream",
     "text": [
      "                                                                                \r"
     ]
    },
    {
     "name": "stdout",
     "output_type": "stream",
     "text": [
      "22/12/12 09:30:14 WARN MemoryStore: Not enough space to cache rdd_131_0 in memory! (computed 19.6 MiB so far)\n",
      "22/12/12 09:30:14 WARN MemoryStore: Not enough space to cache rdd_131_7 in memory! (computed 19.6 MiB so far)\n"
     ]
    },
    {
     "name": "stderr",
     "output_type": "stream",
     "text": [
      "\r",
      "[Stage 65:===================================================>      (8 + 1) / 9]\r",
      "\r",
      "                                                                                \r"
     ]
    },
    {
     "name": "stdout",
     "output_type": "stream",
     "text": [
      "22/12/12 09:30:15 WARN MemoryStore: Not enough space to cache rdd_131_0 in memory! (computed 19.6 MiB so far)\n",
      "22/12/12 09:30:15 WARN MemoryStore: Not enough space to cache rdd_131_7 in memory! (computed 19.6 MiB so far)\n"
     ]
    },
    {
     "name": "stderr",
     "output_type": "stream",
     "text": [
      "\r",
      "[Stage 67:===================================================>      (8 + 1) / 9]\r",
      "\r",
      "                                                                                \r"
     ]
    },
    {
     "name": "stdout",
     "output_type": "stream",
     "text": [
      "22/12/12 09:30:15 WARN MemoryStore: Not enough space to cache rdd_131_0 in memory! (computed 19.6 MiB so far)\n",
      "22/12/12 09:30:16 WARN MemoryStore: Not enough space to cache rdd_131_7 in memory! (computed 19.6 MiB so far)\n",
      "22/12/12 09:30:16 WARN MemoryStore: Not enough space to cache rdd_131_0 in memory! (computed 19.6 MiB so far)\n",
      "22/12/12 09:30:16 WARN MemoryStore: Not enough space to cache rdd_131_7 in memory! (computed 19.6 MiB so far)\n"
     ]
    },
    {
     "name": "stderr",
     "output_type": "stream",
     "text": [
      "\r",
      "[Stage 71:===================================================>      (8 + 1) / 9]\r",
      "\r",
      "                                                                                \r"
     ]
    },
    {
     "name": "stdout",
     "output_type": "stream",
     "text": [
      "22/12/12 09:30:17 WARN MemoryStore: Not enough space to cache rdd_131_0 in memory! (computed 19.6 MiB so far)\n",
      "22/12/12 09:30:17 WARN MemoryStore: Not enough space to cache rdd_131_7 in memory! (computed 19.6 MiB so far)\n"
     ]
    },
    {
     "name": "stderr",
     "output_type": "stream",
     "text": [
      "\r",
      "[Stage 73:===================================================>      (8 + 1) / 9]\r",
      "\r",
      "                                                                                \r"
     ]
    },
    {
     "name": "stdout",
     "output_type": "stream",
     "text": [
      "22/12/12 09:30:17 WARN MemoryStore: Not enough space to cache rdd_131_0 in memory! (computed 19.6 MiB so far)\n",
      "22/12/12 09:30:18 WARN MemoryStore: Not enough space to cache rdd_131_7 in memory! (computed 19.6 MiB so far)\n"
     ]
    },
    {
     "name": "stderr",
     "output_type": "stream",
     "text": [
      "\r",
      "[Stage 75:===================================================>      (8 + 1) / 9]\r",
      "\r",
      "                                                                                \r"
     ]
    },
    {
     "name": "stdout",
     "output_type": "stream",
     "text": [
      "22/12/12 09:30:18 WARN MemoryStore: Not enough space to cache rdd_131_0 in memory! (computed 19.6 MiB so far)\n",
      "22/12/12 09:30:18 WARN MemoryStore: Not enough space to cache rdd_131_7 in memory! (computed 19.6 MiB so far)\n"
     ]
    },
    {
     "name": "stderr",
     "output_type": "stream",
     "text": [
      "\r",
      "[Stage 77:===================================================>      (8 + 1) / 9]\r",
      "\r",
      "                                                                                \r"
     ]
    },
    {
     "name": "stdout",
     "output_type": "stream",
     "text": [
      "22/12/12 09:30:19 WARN MemoryStore: Not enough space to cache rdd_131_0 in memory! (computed 19.6 MiB so far)\n",
      "22/12/12 09:30:19 WARN MemoryStore: Not enough space to cache rdd_131_7 in memory! (computed 19.6 MiB so far)\n"
     ]
    },
    {
     "name": "stderr",
     "output_type": "stream",
     "text": [
      "\r",
      "[Stage 79:===================================================>      (8 + 1) / 9]\r",
      "\r",
      "                                                                                \r"
     ]
    },
    {
     "name": "stdout",
     "output_type": "stream",
     "text": [
      "22/12/12 09:30:20 WARN MemoryStore: Not enough space to cache rdd_131_0 in memory! (computed 19.6 MiB so far)\n",
      "22/12/12 09:30:20 WARN MemoryStore: Not enough space to cache rdd_131_7 in memory! (computed 19.6 MiB so far)\n"
     ]
    },
    {
     "name": "stderr",
     "output_type": "stream",
     "text": [
      "\r",
      "[Stage 81:===================================================>      (8 + 1) / 9]\r",
      "\r",
      "                                                                                \r"
     ]
    },
    {
     "name": "stdout",
     "output_type": "stream",
     "text": [
      "22/12/12 09:30:20 WARN MemoryStore: Not enough space to cache rdd_131_0 in memory! (computed 19.6 MiB so far)\n",
      "22/12/12 09:30:21 WARN MemoryStore: Not enough space to cache rdd_131_7 in memory! (computed 19.6 MiB so far)\n",
      "22/12/12 09:30:21 WARN MemoryStore: Not enough space to cache rdd_131_0 in memory! (computed 19.6 MiB so far)\n",
      "22/12/12 09:30:21 WARN MemoryStore: Not enough space to cache rdd_131_7 in memory! (computed 19.6 MiB so far)\n"
     ]
    },
    {
     "name": "stderr",
     "output_type": "stream",
     "text": [
      "\r",
      "[Stage 85:===================================================>      (8 + 1) / 9]\r",
      "\r",
      "                                                                                \r"
     ]
    },
    {
     "name": "stdout",
     "output_type": "stream",
     "text": [
      "22/12/12 09:30:22 WARN MemoryStore: Not enough space to cache rdd_131_0 in memory! (computed 19.6 MiB so far)\n",
      "22/12/12 09:30:22 WARN MemoryStore: Not enough space to cache rdd_131_7 in memory! (computed 19.6 MiB so far)\n"
     ]
    },
    {
     "name": "stderr",
     "output_type": "stream",
     "text": [
      "\r",
      "[Stage 87:===================================================>      (8 + 1) / 9]\r",
      "\r",
      "                                                                                \r"
     ]
    },
    {
     "name": "stdout",
     "output_type": "stream",
     "text": [
      "22/12/12 09:30:22 WARN MemoryStore: Not enough space to cache rdd_131_0 in memory! (computed 19.6 MiB so far)\n",
      "22/12/12 09:30:23 WARN MemoryStore: Not enough space to cache rdd_131_7 in memory! (computed 19.6 MiB so far)\n"
     ]
    },
    {
     "name": "stderr",
     "output_type": "stream",
     "text": [
      "\r",
      "[Stage 89:===================================================>      (8 + 1) / 9]\r",
      "\r",
      "                                                                                \r"
     ]
    },
    {
     "name": "stdout",
     "output_type": "stream",
     "text": [
      "22/12/12 09:30:23 WARN MemoryStore: Not enough space to cache rdd_131_0 in memory! (computed 19.6 MiB so far)\n",
      "22/12/12 09:30:23 WARN MemoryStore: Not enough space to cache rdd_131_7 in memory! (computed 19.6 MiB so far)\n"
     ]
    },
    {
     "name": "stderr",
     "output_type": "stream",
     "text": [
      "\r",
      "[Stage 91:===================================================>      (8 + 1) / 9]\r",
      "\r",
      "                                                                                \r"
     ]
    },
    {
     "name": "stdout",
     "output_type": "stream",
     "text": [
      "22/12/12 09:30:24 WARN MemoryStore: Not enough space to cache rdd_131_0 in memory! (computed 19.6 MiB so far)\n",
      "22/12/12 09:30:24 WARN MemoryStore: Not enough space to cache rdd_131_7 in memory! (computed 19.6 MiB so far)\n"
     ]
    },
    {
     "name": "stderr",
     "output_type": "stream",
     "text": [
      "\r",
      "[Stage 93:===================================================>      (8 + 1) / 9]\r",
      "\r",
      "                                                                                \r"
     ]
    },
    {
     "name": "stdout",
     "output_type": "stream",
     "text": [
      "22/12/12 09:30:25 WARN MemoryStore: Not enough space to cache rdd_131_0 in memory! (computed 19.6 MiB so far)\n",
      "22/12/12 09:30:25 WARN MemoryStore: Not enough space to cache rdd_131_7 in memory! (computed 19.6 MiB so far)\n"
     ]
    },
    {
     "name": "stderr",
     "output_type": "stream",
     "text": [
      "\r",
      "[Stage 95:===================================================>      (8 + 1) / 9]\r",
      "\r",
      "                                                                                \r"
     ]
    },
    {
     "name": "stdout",
     "output_type": "stream",
     "text": [
      "22/12/12 09:30:25 WARN MemoryStore: Not enough space to cache rdd_131_0 in memory! (computed 19.6 MiB so far)\n",
      "22/12/12 09:30:26 WARN MemoryStore: Not enough space to cache rdd_131_7 in memory! (computed 19.6 MiB so far)\n"
     ]
    },
    {
     "name": "stderr",
     "output_type": "stream",
     "text": [
      "\r",
      "[Stage 97:===================================================>      (8 + 1) / 9]\r",
      "\r",
      "                                                                                \r"
     ]
    },
    {
     "name": "stdout",
     "output_type": "stream",
     "text": [
      "22/12/12 09:30:26 WARN MemoryStore: Not enough space to cache rdd_131_0 in memory! (computed 19.6 MiB so far)\n",
      "22/12/12 09:30:26 WARN MemoryStore: Not enough space to cache rdd_131_7 in memory! (computed 19.6 MiB so far)\n"
     ]
    },
    {
     "name": "stderr",
     "output_type": "stream",
     "text": [
      "\r",
      "[Stage 99:===================================================>      (8 + 1) / 9]\r",
      "\r",
      "                                                                                \r"
     ]
    },
    {
     "name": "stdout",
     "output_type": "stream",
     "text": [
      "22/12/12 09:30:27 WARN MemoryStore: Not enough space to cache rdd_131_0 in memory! (computed 19.6 MiB so far)\n",
      "22/12/12 09:30:27 WARN MemoryStore: Not enough space to cache rdd_131_7 in memory! (computed 19.6 MiB so far)\n"
     ]
    },
    {
     "name": "stderr",
     "output_type": "stream",
     "text": [
      "\r",
      "[Stage 101:==================================================>      (8 + 1) / 9]\r",
      "\r",
      "                                                                                \r"
     ]
    },
    {
     "name": "stdout",
     "output_type": "stream",
     "text": [
      "22/12/12 09:30:27 WARN MemoryStore: Not enough space to cache rdd_131_0 in memory! (computed 19.6 MiB so far)\n",
      "22/12/12 09:30:28 WARN MemoryStore: Not enough space to cache rdd_131_7 in memory! (computed 19.6 MiB so far)\n"
     ]
    },
    {
     "name": "stderr",
     "output_type": "stream",
     "text": [
      "                                                                                \r"
     ]
    },
    {
     "name": "stdout",
     "output_type": "stream",
     "text": [
      "+------------+------------+------------+-------------+--------------------+----------+\n",
      "|Street Code1|Street Code2|Street Code3|Vehicle Color|            features|prediction|\n",
      "+------------+------------+------------+-------------+--------------------+----------+\n",
      "|     34330.0|       179.0|         0.0|          BLK| [34330.0,179.0,0.0]|         0|\n",
      "|     34310.0|     16400.0|     11010.0|         GRAY|[34310.0,16400.0,...|         0|\n",
      "|     30640.0|     13015.0|     28540.0|         GRAY|[30640.0,13015.0,...|         0|\n",
      "|     30640.0|     13015.0|     28540.0|         null|[30640.0,13015.0,...|         0|\n",
      "|     30640.0|     13015.0|     28540.0|         BLUE|[30640.0,13015.0,...|         0|\n",
      "|     30640.0|     13015.0|     28540.0|         null|[30640.0,13015.0,...|         0|\n",
      "|     30640.0|     13015.0|     28540.0|         BLUE|[30640.0,13015.0,...|         0|\n",
      "|     11585.0|     26390.0|     15010.0|        WHITE|[11585.0,26390.0,...|         2|\n",
      "|         0.0|         0.0|         0.0|          BLK|           (3,[],[])|         1|\n",
      "|     33190.0|     25190.0|     31990.0|          RED|[33190.0,25190.0,...|         2|\n",
      "|     33190.0|     25190.0|     31990.0|           GY|[33190.0,25190.0,...|         2|\n",
      "|     30640.0|     24050.0|         0.0|         GRAY|[30640.0,24050.0,...|         0|\n",
      "|     30640.0|     13015.0|     28540.0|          WHT|[30640.0,13015.0,...|         0|\n",
      "|         0.0|         0.0|         0.0|          BLK|           (3,[],[])|         1|\n",
      "|     33340.0|         0.0|         0.0|        BLACK|   [33340.0,0.0,0.0]|         0|\n",
      "|     34440.0|         0.0|         0.0|          RED|   [34440.0,0.0,0.0]|         0|\n",
      "|         0.0|         0.0|         0.0|          WHT|           (3,[],[])|         1|\n",
      "|         0.0|         0.0|         0.0|          WHT|           (3,[],[])|         1|\n",
      "|     11210.0|     22695.0|         0.0|        BLACK|[11210.0,22695.0,...|         1|\n",
      "|     23904.0|     25680.0|     21950.0|        WHITE|[23904.0,25680.0,...|         2|\n",
      "+------------+------------+------------+-------------+--------------------+----------+\n",
      "only showing top 20 rows\n",
      "\n",
      "None\n",
      "\n",
      "\n",
      "-x-x-x-x-x-x-x-x-x-x-x-x-x-x-x-x-x-x-x-x-x-x-x-x-x-x-x-x-x-x-x-x-x-x-x-x-x-x-x-x\n",
      "\n",
      "\n"
     ]
    },
    {
     "name": "stderr",
     "output_type": "stream",
     "text": [
      "[Stage 109:===============================>                         (5 + 2) / 9]\r"
     ]
    },
    {
     "name": "stdout",
     "output_type": "stream",
     "text": [
      "22/12/12 09:30:38 WARN MemoryStore: Not enough space to cache rdd_197_6 in memory! (computed 57.2 MiB so far)\n",
      "22/12/12 09:30:38 WARN BlockManager: Persisting block rdd_197_6 to disk instead.\n",
      "22/12/12 09:30:39 WARN MemoryStore: Not enough space to cache rdd_197_6 in memory! (computed 57.2 MiB so far)\n"
     ]
    },
    {
     "name": "stderr",
     "output_type": "stream",
     "text": [
      "[Stage 109:============================================>            (7 + 2) / 9]\r"
     ]
    },
    {
     "name": "stdout",
     "output_type": "stream",
     "text": [
      "22/12/12 09:30:39 WARN MemoryStore: Not enough space to cache rdd_197_8 in memory! (computed 30.9 MiB so far)\n",
      "22/12/12 09:30:39 WARN BlockManager: Persisting block rdd_197_8 to disk instead.\n",
      "22/12/12 09:30:39 WARN MemoryStore: Not enough space to cache rdd_197_8 in memory! (computed 30.9 MiB so far)\n"
     ]
    },
    {
     "name": "stderr",
     "output_type": "stream",
     "text": [
      "\r",
      "[Stage 109:==================================================>      (8 + 1) / 9]\r"
     ]
    },
    {
     "name": "stdout",
     "output_type": "stream",
     "text": [
      "22/12/12 09:30:40 WARN MemoryStore: Not enough space to cache rdd_197_7 in memory! (computed 50.6 MiB so far)\n",
      "22/12/12 09:30:40 WARN BlockManager: Persisting block rdd_197_7 to disk instead.\n",
      "22/12/12 09:30:40 WARN MemoryStore: Not enough space to cache rdd_197_7 in memory! (computed 50.6 MiB so far)\n",
      "+----------+------+----------+-------------------+\n",
      "|prediction| Count|Total_Cars|        Probability|\n",
      "+----------+------+----------+-------------------+\n",
      "|         0|119086|    835745|0.14249083153354192|\n",
      "|         1|686027|   2893714| 0.2370749147980761|\n",
      "|         2|168959|   1133715|0.14903128211234745|\n",
      "|         3| 73558|    412634|0.17826451528473175|\n",
      "|         4| 55139|    311254|0.17715113701350022|\n",
      "+----------+------+----------+-------------------+\n",
      "\n",
      "None\n",
      "\n",
      "\n",
      "-x-x-x-x-x-x-x-x-x-x-x-x-x-x-x-x-x-x-x-x-x-x-x-x-x-x-x-x-x-x-x-x-x-x-x-x-x-x-x-x\n",
      "\n",
      "\n",
      "The Ks for each clutser is:\n",
      "[[45217.84711228 12966.7419767  12546.99322683]\n",
      " [ 2030.53171405  1074.54772039   723.26006692]\n",
      " [16674.91084524 30196.69860803 26818.92268947]\n",
      " [55067.32404682 67094.68335443 51725.40706855]\n",
      " [38516.75507149 27517.8777117  61653.88210416]]\n",
      "\n",
      "\n",
      "-x-x-x-x-x-x-x-x-x-x-x-x-x-x-x-x-x-x-x-x-x-x-x-x-x-x-x-x-x-x-x-x-x-x-x-x-x-x-x-x\n",
      "\n",
      "\n",
      "Cluster id for Street Code (34510, 10030, 34050) is: 0\n"
     ]
    },
    {
     "name": "stderr",
     "output_type": "stream",
     "text": [
      "\r",
      "                                                                                \r",
      "/var/folders/qh/sfsll9hn6qx3w2dlh13chvsw0000gn/T/ipykernel_10039/2324378142.py:2: DeprecationWarning: `np.float` is a deprecated alias for the builtin `float`. To silence this warning, use `float` by itself. Doing this will not modify any behavior and is safe. If you specifically wanted the numpy scalar type, use `np.float64` here.\n",
      "Deprecated in NumPy 1.20; for more details and guidance: https://numpy.org/devdocs/release/1.20.0-notes.html#deprecations\n",
      "  closest, ret = np.float(\"+inf\"), 0\n"
     ]
    },
    {
     "name": "stdout",
     "output_type": "stream",
     "text": [
      "22/12/12 09:30:40 WARN MemoryStore: Not enough space to cache rdd_197_7 in memory! (computed 25.8 MiB so far)\n",
      "+----------+------+----------+-------------------+\n",
      "|prediction| Count|Total_Cars|        Probability|\n",
      "+----------+------+----------+-------------------+\n",
      "|         0|119086|    835745|0.14249083153354192|\n",
      "+----------+------+----------+-------------------+\n",
      "\n",
      "None\n"
     ]
    }
   ],
   "source": [
    "#spark = pyspark.sql.SparkSession.builder.appName(\"ECC-Assignment2-Spark-Kmeans\").getOrCreate()\n",
    "\n",
    "parking = spark.read.format(\"csv\").option(\"header\", \"true\").load('Parking_Violations_Issued_-_Fiscal_Year_2023.csv').select('Street Code1', 'Street Code2', 'Street Code3', 'Vehicle Color')\n",
    "\n",
    "parking = parking.select(parking['Street Code1'].cast('float'), parking['Street Code2'].cast('float'), parking['Street Code3'].cast('float'), parking['Vehicle Color'])\n",
    "\n",
    "vecAssembler = VectorAssembler(inputCols = [\"Street Code1\", \"Street Code2\", \"Street Code3\"], outputCol = \"features\")\n",
    "parking = vecAssembler.transform(parking)\n",
    "\n",
    "kmeans = KMeans(k=5)\n",
    "KMod = kmeans.fit(parking.select('features'))\n",
    "res = KMod.transform(parking).cache()\n",
    "print(res.show())\n",
    "\n",
    "print(\"\\n\\n-x-x-x-x-x-x-x-x-x-x-x-x-x-x-x-x-x-x-x-x-x-x-x-x-x-x-x-x-x-x-x-x-x-x-x-x-x-x-x-x\\n\\n\")\n",
    "\n",
    "black_list = ['BK', 'BLK', 'BK/', 'BK.', 'BLK.', 'BLAC', 'Black', 'BCK', 'BC', 'B LAC']\n",
    "BLK_result = res.groupBy('prediction').agg(count(when(col('Vehicle Color').isin(black_list),1)).alias('Count'), count('Vehicle Color').alias('Total_Cars')).orderBy('prediction')\n",
    "Prob = BLK_result.select('prediction', 'Count', 'Total_Cars', (col('Count') / col ('Total_Cars')).alias('Probability'))\n",
    "print(Prob.show())\n",
    "\n",
    "print(\"\\n\\n-x-x-x-x-x-x-x-x-x-x-x-x-x-x-x-x-x-x-x-x-x-x-x-x-x-x-x-x-x-x-x-x-x-x-x-x-x-x-x-x\\n\\n\")\n",
    "\n",
    "ks = np.array(KMod.clusterCenters()).astype(float)\n",
    "print(\"The Ks for each clutser is:\")\n",
    "print(ks)\n",
    "\n",
    "print(\"\\n\\n-x-x-x-x-x-x-x-x-x-x-x-x-x-x-x-x-x-x-x-x-x-x-x-x-x-x-x-x-x-x-x-x-x-x-x-x-x-x-x-x\\n\\n\")\n",
    "\n",
    "cid = nearestK([34510.0, 10030.0, 34050.0], ks)\n",
    "print('Cluster id for Street Code (34510, 10030, 34050) is:', cid)\n",
    "print(Prob.filter(col('prediction') == cid).show())\n",
    "spark.stop()"
   ]
  },
  {
   "cell_type": "markdown",
   "id": "86537372",
   "metadata": {},
   "source": [
    "The output for this problem generates four different tables.\n",
    "\n",
    "\n",
    "The first table shows the features and prediction as a result of the k means model that was fit.\n",
    "\n",
    "\n",
    "The second table displays the prediction, count, Total_cars and probability of ticketing a black vehicle.\n",
    "\n",
    "\n",
    "The third table computes the K-centers for each cluster and displays the same.\n",
    "\n",
    "\n",
    "The last table displays the prediction, count, total_cars and the probability of ticketing a black vehicle in street codes (34510, 10030, 34050). From this table we infer that the cluster id for these street codes is 0. The probability is 0.142 which is greater than 0.004. Hence, we can conclude that the probability is successfully computed."
   ]
  },
  {
   "cell_type": "markdown",
   "id": "1023d33f",
   "metadata": {},
   "source": [
    "## References for Kmeans Clustering"
   ]
  },
  {
   "cell_type": "markdown",
   "id": "68ac7671",
   "metadata": {},
   "source": [
    "1. https://www.scribd.com/document/519217940/lab2-Report"
   ]
  },
  {
   "cell_type": "markdown",
   "id": "19a3699f",
   "metadata": {},
   "source": [
    "# END OF ASSIGNMENT"
   ]
  }
 ],
 "metadata": {
  "kernelspec": {
   "display_name": "Python 3 (ipykernel)",
   "language": "python",
   "name": "python3"
  },
  "language_info": {
   "codemirror_mode": {
    "name": "ipython",
    "version": 3
   },
   "file_extension": ".py",
   "mimetype": "text/x-python",
   "name": "python",
   "nbconvert_exporter": "python",
   "pygments_lexer": "ipython3",
   "version": "3.9.13"
  }
 },
 "nbformat": 4,
 "nbformat_minor": 5
}
